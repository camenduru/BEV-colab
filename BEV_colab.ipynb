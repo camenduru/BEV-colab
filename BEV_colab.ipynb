{
  "cells": [
    {
      "cell_type": "markdown",
      "metadata": {
        "id": "view-in-github"
      },
      "source": [
        "[![Open In Colab](https://colab.research.google.com/assets/colab-badge.svg)](https://colab.research.google.com/github/camenduru/BEV-colab/blob/main/BEV_colab.ipynb)"
      ]
    },
    {
      "cell_type": "code",
      "execution_count": null,
      "metadata": {
        "id": "VjYy0F2gZIPR"
      },
      "outputs": [],
      "source": [
        "%cd /content\n",
        "!pip install simple_romp chumpy\n",
        "!apt -y install -qq aria2\n",
        "!aria2c --console-log-level=error -c -x 16 -s 16 -k 1M https://huggingface.co/camenduru/SMPLer-X/resolve/main/SMPL_NEUTRAL.pkl -d /content/smpl_model_data -o SMPL_NEUTRAL.pkl\n",
        "!aria2c --console-log-level=error -c -x 16 -s 16 -k 1M https://huggingface.co/camenduru/buddi/resolve/main/romp/J_regressor_extra.npy -d /content/smpl_model_data -o J_regressor_extra.npy\n",
        "!aria2c --console-log-level=error -c -x 16 -s 16 -k 1M https://huggingface.co/camenduru/buddi/resolve/main/romp/J_regressor_h36m.npy -d /content/smpl_model_data -o J_regressor_h36m.npy\n",
        "!aria2c --console-log-level=error -c -x 16 -s 16 -k 1M https://huggingface.co/camenduru/buddi/resolve/main/romp/smpl_kid_template.npy -d /content/smpl_model_data -o smpl_kid_template.npy\n",
        "!aria2c --console-log-level=error -c -x 16 -s 16 -k 1M https://huggingface.co/camenduru/buddi/resolve/main/romp/smil_web.pkl -d /content/smpl_model_data/smil -o smil_web.pkl\n",
        "\n",
        "!romp.prepare_smpl -source_dir=/content/smpl_model_data\n",
        "!bev.prepare_smil -source_dir=/content/smpl_model_data\n",
        "!bev.prepare_smil -source_dir=/content/smpl_model_data"
      ]
    },
    {
      "cell_type": "code",
      "execution_count": null,
      "metadata": {},
      "outputs": [],
      "source": [
        "# !romp --mode=image --calc_smpl --render_mesh -i=/content/a1.jpg -o=/content/results_romp.jpg\n",
        "!bev -i /content/a1.jpg -o /content/results_bev.jpg"
      ]
    }
  ],
  "metadata": {
    "accelerator": "GPU",
    "colab": {
      "gpuType": "T4",
      "provenance": []
    },
    "kernelspec": {
      "display_name": "Python 3",
      "name": "python3"
    },
    "language_info": {
      "name": "python"
    }
  },
  "nbformat": 4,
  "nbformat_minor": 0
}
