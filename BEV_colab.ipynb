{
  "cells": [
    {
      "cell_type": "markdown",
      "metadata": {
        "id": "view-in-github"
      },
      "source": [
        "[![Open In Colab](https://colab.research.google.com/assets/colab-badge.svg)](https://colab.research.google.com/github/camenduru/BEV-colab/blob/main/BEV_colab.ipynb)"
      ]
    },
    {
      "cell_type": "code",
      "execution_count": null,
      "metadata": {
        "id": "VjYy0F2gZIPR"
      },
      "outputs": [],
      "source": [
        "%cd /content\n",
        "!git clone -b dev https://github.com/camenduru/ROMP\n",
        "%cd /content/ROMP\n",
        "\n",
        "%cd /content\n",
        "!pip install simple_romp chumpy\n",
        "!aria2c --console-log-level=error -c -x 16 -s 16 -k 1M https://huggingface.co/camenduru/SMPLer-X/resolve/main/SMPL_NEUTRAL.pkl -d /content/smpl_model_data -o SMPL_NEUTRAL.pkl\n",
        "!aria2c --console-log-level=error -c -x 16 -s 16 -k 1M https://huggingface.co/camenduru/buddi/resolve/main/romp/J_regressor_extra.npy -d /content/smpl_model_data -o J_regressor_extra.npy\n",
        "!aria2c --console-log-level=error -c -x 16 -s 16 -k 1M https://huggingface.co/camenduru/buddi/resolve/main/romp/J_regressor_h36m.npy -d /content/smpl_model_data -o J_regressor_h36m.npy\n",
        "!aria2c --console-log-level=error -c -x 16 -s 16 -k 1M https://huggingface.co/camenduru/buddi/resolve/main/romp/smpl_kid_template.npy -d /content/smpl_model_data -o smpl_kid_template.npy\n",
        "!aria2c --console-log-level=error -c -x 16 -s 16 -k 1M https://huggingface.co/camenduru/buddi/resolve/main/romp/smil_web.pkl -d /content/smpl_model_data/smil -o smil_web.pkl\n",
        "!mkdir /content/romp\n",
        "!romp.prepare_smpl -source_dir=/content/smpl_model_data --save_dir=/content/romp\n",
        "!bev.prepare_smil -source_dir=/content/smpl_model_data --save_dir=/content/romp\n",
        "!bev.prepare_smil -source_dir=/content/smpl_model_data\n",
        "!cp -r /root/.romp/. /content/smpl_model_data"
      ]
    }
  ],
  "metadata": {
    "accelerator": "GPU",
    "colab": {
      "gpuType": "T4",
      "provenance": []
    },
    "kernelspec": {
      "display_name": "Python 3",
      "name": "python3"
    },
    "language_info": {
      "name": "python"
    }
  },
  "nbformat": 4,
  "nbformat_minor": 0
}
